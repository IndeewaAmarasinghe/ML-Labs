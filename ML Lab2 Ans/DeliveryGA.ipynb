{
  "cells": [
    {
      "cell_type": "code",
      "execution_count": 1,
      "metadata": {
        "id": "OT7wBWZApU3A"
      },
      "outputs": [],
      "source": [
        "# !pip install deap\n",
        "# uncomment and run the first time as most probably deap library may not be already installed"
      ]
    },
    {
      "cell_type": "code",
      "source": [
        "!pip install deap\n"
      ],
      "metadata": {
        "colab": {
          "base_uri": "https://localhost:8080/"
        },
        "id": "xzONq2TpqtHh",
        "outputId": "20baa055-ef96-4846-e5cf-54a5c557a2f4"
      },
      "execution_count": 6,
      "outputs": [
        {
          "output_type": "stream",
          "name": "stdout",
          "text": [
            "Collecting deap\n",
            "  Downloading deap-1.4.2-cp311-cp311-manylinux_2_5_x86_64.manylinux1_x86_64.manylinux_2_17_x86_64.manylinux2014_x86_64.whl.metadata (13 kB)\n",
            "Requirement already satisfied: numpy in /usr/local/lib/python3.11/dist-packages (from deap) (1.26.4)\n",
            "Downloading deap-1.4.2-cp311-cp311-manylinux_2_5_x86_64.manylinux1_x86_64.manylinux_2_17_x86_64.manylinux2014_x86_64.whl (135 kB)\n",
            "\u001b[?25l   \u001b[90m━━━━━━━━━━━━━━━━━━━━━━━━━━━━━━━━━━━━━━━━\u001b[0m \u001b[32m0.0/135.4 kB\u001b[0m \u001b[31m?\u001b[0m eta \u001b[36m-:--:--\u001b[0m\r\u001b[2K   \u001b[90m━━━━━━━━━━━━━━━━━━━━━━━━━━━━━━━━━━━━━━━━\u001b[0m \u001b[32m135.4/135.4 kB\u001b[0m \u001b[31m8.8 MB/s\u001b[0m eta \u001b[36m0:00:00\u001b[0m\n",
            "\u001b[?25hInstalling collected packages: deap\n",
            "Successfully installed deap-1.4.2\n"
          ]
        }
      ]
    },
    {
      "cell_type": "code",
      "execution_count": 7,
      "metadata": {
        "colab": {
          "base_uri": "https://localhost:8080/"
        },
        "id": "fsSKb6VGpU3B",
        "outputId": "c831b372-944b-4ced-aeb2-613b9ec0123a"
      },
      "outputs": [
        {
          "output_type": "stream",
          "name": "stdout",
          "text": [
            "Best Delivery Route: [0, 2, 4, 5, 3, 1, 0]\n",
            "Minimum Distance: 115\n"
          ]
        }
      ],
      "source": [
        "import random\n",
        "import numpy as np\n",
        "from deap import base, creator, tools, algorithms\n",
        "\n",
        "# -----------------------------------\n",
        "# STEP 1: Problem Definition\n",
        "# -----------------------------------\n",
        "# We need to optimize a delivery route by minimizing total travel distance.\n",
        "# The warehouse is at index 0, and we must visit all locations exactly once.\n",
        "\n",
        "# Distance matrix representing the travel cost between locations\n",
        "distance_matrix = np.array([\n",
        "    [0, 10, 15, 20, 25, 30],  # Warehouse\n",
        "    [10, 0, 35, 25, 30, 20],  # Location 1\n",
        "    [15, 35, 0, 30, 20, 25],  # Location 2\n",
        "    [20, 25, 30, 0, 15, 10],  # Location 3\n",
        "    [25, 30, 20, 15, 0, 35],  # Location 4\n",
        "    [30, 20, 25, 10, 35, 0]   # Location 5\n",
        "])\n",
        "\n",
        "num_locations = len(distance_matrix)  # Total locations (including warehouse)\n",
        "population_size = 10   # Number of candidate solutions in each generation\n",
        "generations = 100      # Number of iterations\n",
        "mutation_rate = 0.2    # Probability of mutation\n",
        "\n",
        "# -----------------------------------\n",
        "# STEP 2: Genetic Algorithm Setup\n",
        "# -----------------------------------\n",
        "# We define a DEAP \"FitnessMin\" class to represent our objective (minimize distance).\n",
        "creator.create(\"FitnessMin\", base.Fitness, weights=(-1.0,))  # Minimize distance\n",
        "creator.create(\"Individual\", list, fitness=creator.FitnessMin)  # A delivery route is a list of locations\n",
        "\n",
        "toolbox = base.Toolbox()\n",
        "\n",
        "# Function to generate a valid random route (excluding warehouse)\n",
        "def create_valid_route():\n",
        "    \"\"\"Creates a shuffled list of locations excluding the warehouse (index 0).\"\"\"\n",
        "    route = list(range(1, num_locations))  # Locations 1 to num_locations-1\n",
        "    random.shuffle(route)  # Shuffle locations randomly\n",
        "    return creator.Individual(route)  # Return as DEAP Individual\n",
        "\n",
        "toolbox.register(\"individual\", tools.initIterate, creator.Individual, create_valid_route)\n",
        "toolbox.register(\"population\", tools.initRepeat, list, toolbox.individual)\n",
        "\n",
        "# -----------------------------------\n",
        "# STEP 3: Fitness Function (Objective Function)\n",
        "# -----------------------------------\n",
        "# The fitness function calculates the total travel distance for a given route.\n",
        "def route_distance(individual):\n",
        "    \"\"\"Computes total travel distance for a given route.\"\"\"\n",
        "    route = [0] + individual + [0]  # Start and end at the warehouse\n",
        "    total_distance = sum(distance_matrix[route[i], route[i + 1]] for i in range(len(route) - 1))\n",
        "    return total_distance,  # Return as a tuple (DEAP requires tuple format)\n",
        "\n",
        "toolbox.register(\"evaluate\", route_distance)\n",
        "\n",
        "\n",
        "# -----------------------------------\n",
        "# TODO: Extend the Lab (Student Task)\n",
        "# -----------------------------------\n",
        "# Modify the fitness function to include time constraints.\n",
        "# Steps:\n",
        "# 1. Assume each location has a preferred delivery time slot (e.g., [2, 4, 1, 3, 5]).\n",
        "# 2. Penalize routes that visit locations later than their required time.\n",
        "# 3. Modify the `route_distance` function to include a penalty.\n",
        "# 4. Re-run the genetic algorithm and analyze changes in the best route.\n",
        "\n",
        "\n",
        "# -----------------------------------\n",
        "# STEP 4: Genetic Algorithm Operators\n",
        "# -----------------------------------\n",
        "# Crossover: Uses Partially Mapped Crossover (PMX) to swap sections between two parents\n",
        "def custom_pmx(ind1, ind2):\n",
        "    \"\"\"Applies PMX crossover after converting to 0-based indices, then converts back.\"\"\"\n",
        "    ind1[:] = [x - 1 for x in ind1]  # Convert to 0-based indices\n",
        "    ind2[:] = [x - 1 for x in ind2]\n",
        "\n",
        "    tools.cxPartialyMatched(ind1, ind2)  # Apply PMX crossover\n",
        "\n",
        "    ind1[:] = [x + 1 for x in ind1]  # Convert back to 1-based indices\n",
        "    ind2[:] = [x + 1 for x in ind2]\n",
        "    return ind1, ind2  # Return modified individuals\n",
        "\n",
        "toolbox.register(\"mate\", custom_pmx)  # Crossover function\n",
        "toolbox.register(\"mutate\", tools.mutShuffleIndexes, indpb=mutation_rate)  # Mutation: Swap elements\n",
        "toolbox.register(\"select\", tools.selTournament, tournsize=3)  # Selection: Tournament method\n",
        "\n",
        "# -----------------------------------\n",
        "# STEP 5: Genetic Algorithm Execution\n",
        "# -----------------------------------\n",
        "def genetic_algorithm():\n",
        "    \"\"\"Executes the Genetic Algorithm to find the optimal delivery route.\"\"\"\n",
        "    population = toolbox.population(n=population_size)  # Create initial population\n",
        "\n",
        "    # Run the genetic algorithm for a set number of generations\n",
        "    for generation in range(generations):\n",
        "        offspring = algorithms.varAnd(population, toolbox, cxpb=0.7, mutpb=mutation_rate)  # Apply crossover & mutation\n",
        "        population = toolbox.select(offspring, k=len(population))  # Select best individuals for next generation\n",
        "\n",
        "    # Return the best solution found\n",
        "    best_route = tools.selBest(population, k=1)[0]  # Get best route\n",
        "    best_distance = route_distance(best_route)[0]  # Compute total distance\n",
        "    return best_route, best_distance\n",
        "\n",
        "# Run the genetic algorithm\n",
        "best_route, best_distance = genetic_algorithm()\n",
        "\n",
        "# -----------------------------------\n",
        "# STEP 6: Print Results\n",
        "# -----------------------------------\n",
        "print(\"Best Delivery Route:\", [0] + best_route + [0])  # Add warehouse start/end\n",
        "print(\"Minimum Distance:\", best_distance)\n"
      ]
    },
    {
      "cell_type": "code",
      "execution_count": 8,
      "metadata": {
        "colab": {
          "base_uri": "https://localhost:8080/"
        },
        "id": "DdQo0eJwpU3C",
        "outputId": "99be274a-a778-45da-ea17-45f4c6a7ad43"
      },
      "outputs": [
        {
          "output_type": "stream",
          "name": "stdout",
          "text": [
            "Best Delivery Route: [0, 2, 3, 1, 4, 5, 0]\n",
            "Minimum Distance: 165\n"
          ]
        },
        {
          "output_type": "stream",
          "name": "stderr",
          "text": [
            "/usr/local/lib/python3.11/dist-packages/deap/creator.py:185: RuntimeWarning: A class named 'FitnessMin' has already been created and it will be overwritten. Consider deleting previous creation of that class or rename it.\n",
            "  warnings.warn(\"A class named '{0}' has already been created and it \"\n",
            "/usr/local/lib/python3.11/dist-packages/deap/creator.py:185: RuntimeWarning: A class named 'Individual' has already been created and it will be overwritten. Consider deleting previous creation of that class or rename it.\n",
            "  warnings.warn(\"A class named '{0}' has already been created and it \"\n"
          ]
        }
      ],
      "source": [
        "import random\n",
        "import numpy as np\n",
        "from deap import base, creator, tools, algorithms\n",
        "\n",
        "# -----------------------------------\n",
        "# STEP 1: Problem Definition\n",
        "# -----------------------------------\n",
        "# Distance matrix representing travel cost between locations\n",
        "distance_matrix = np.array([\n",
        "    [0, 10, 15, 20, 25, 30],  # Warehouse\n",
        "    [10, 0, 35, 25, 30, 20],  # Location 1\n",
        "    [15, 35, 0, 30, 20, 25],  # Location 2\n",
        "    [20, 25, 30, 0, 15, 10],  # Location 3\n",
        "    [25, 30, 20, 15, 0, 35],  # Location 4\n",
        "    [30, 20, 25, 10, 35, 0]   # Location 5\n",
        "])\n",
        "\n",
        "num_locations = len(distance_matrix)  # Total locations (including warehouse)\n",
        "population_size = 10   # Number of candidate solutions\n",
        "generations = 100      # Number of iterations\n",
        "mutation_rate = 0.2    # Probability of mutation\n",
        "\n",
        "# -----------------------------------\n",
        "# STEP 2: Genetic Algorithm Setup\n",
        "# -----------------------------------\n",
        "creator.create(\"FitnessMin\", base.Fitness, weights=(-1.0,))  # Minimize distance\n",
        "creator.create(\"Individual\", list, fitness=creator.FitnessMin)  # Delivery route as list\n",
        "\n",
        "toolbox = base.Toolbox()\n",
        "\n",
        "# Function to generate a valid random route (excluding warehouse)\n",
        "def create_valid_route():\n",
        "    route = list(range(1, num_locations))  # Locations 1 to num_locations-1\n",
        "    random.shuffle(route)  # Shuffle locations randomly\n",
        "    return creator.Individual(route)  # Return as DEAP Individual\n",
        "\n",
        "toolbox.register(\"individual\", tools.initIterate, creator.Individual, create_valid_route)\n",
        "toolbox.register(\"population\", tools.initRepeat, list, toolbox.individual)\n",
        "\n",
        "# -----------------------------------\n",
        "# STEP 3: Fitness Function (Objective Function) with Time Constraints\n",
        "# -----------------------------------\n",
        "# Preferred delivery time slots for each location\n",
        "preferred_times = [0, 2, 4, 1, 3, 5]  # Warehouse at index 0\n",
        "\n",
        "def route_distance(individual):\n",
        "    \"\"\"Computes total travel distance with penalties for late deliveries.\"\"\"\n",
        "    route = [0] + individual + [0]  # Start and end at the warehouse\n",
        "    total_distance = sum(distance_matrix[route[i], route[i + 1]] for i in range(len(route) - 1))\n",
        "\n",
        "    penalty = 0\n",
        "    for i, location in enumerate(individual):\n",
        "        preferred_time = preferred_times[location]\n",
        "        if i > preferred_time:  # If visited later than preferred time\n",
        "            penalty += (i - preferred_time) * 10  # Apply penalty for lateness\n",
        "\n",
        "    return total_distance + penalty,  # Return as tuple for DEAP compatibility\n",
        "\n",
        "toolbox.register(\"evaluate\", route_distance)\n",
        "\n",
        "# -----------------------------------\n",
        "# STEP 4: Genetic Algorithm Operators\n",
        "# -----------------------------------\n",
        "def custom_pmx(ind1, ind2):\n",
        "    \"\"\"Applies PMX crossover after converting to 0-based indices.\"\"\"\n",
        "    ind1[:] = [x - 1 for x in ind1]  # Convert to 0-based indices\n",
        "    ind2[:] = [x - 1 for x in ind2]\n",
        "\n",
        "    tools.cxPartialyMatched(ind1, ind2)  # Apply PMX crossover\n",
        "\n",
        "    ind1[:] = [x + 1 for x in ind1]  # Convert back to 1-based indices\n",
        "    ind2[:] = [x + 1 for x in ind2]\n",
        "    return ind1, ind2  # Return modified individuals\n",
        "\n",
        "toolbox.register(\"mate\", custom_pmx)  # Crossover function\n",
        "toolbox.register(\"mutate\", tools.mutShuffleIndexes, indpb=mutation_rate)  # Mutation\n",
        "toolbox.register(\"select\", tools.selTournament, tournsize=3)  # Selection method\n",
        "\n",
        "# -----------------------------------\n",
        "# STEP 5: Genetic Algorithm Execution\n",
        "# -----------------------------------\n",
        "def genetic_algorithm():\n",
        "    \"\"\"Executes the Genetic Algorithm to find the optimal delivery route.\"\"\"\n",
        "    population = toolbox.population(n=population_size)\n",
        "\n",
        "    for generation in range(generations):\n",
        "        offspring = algorithms.varAnd(population, toolbox, cxpb=0.7, mutpb=mutation_rate)\n",
        "        population = toolbox.select(offspring, k=len(population))\n",
        "\n",
        "    best_route = tools.selBest(population, k=1)[0]\n",
        "    best_distance = route_distance(best_route)[0]\n",
        "    return best_route, best_distance\n",
        "\n",
        "# Run the genetic algorithm\n",
        "best_route, best_distance = genetic_algorithm()\n",
        "\n",
        "# -----------------------------------\n",
        "# STEP 6: Print Results\n",
        "# -----------------------------------\n",
        "print(\"Best Delivery Route:\", [0] + best_route + [0])  # Add warehouse start/end\n",
        "print(\"Minimum Distance:\", best_distance)\n"
      ]
    },
    {
      "cell_type": "markdown",
      "source": [
        "### Answers to Questions\n",
        "\n",
        "1. **Before modifying the fitness function, what was the optimal route and distance?**\n",
        "   - **Optimal Route:** `[0, 2, 4, 5, 3, 1, 0]`\n",
        "   - **Minimum Distance:** `115`\n",
        "\n",
        "2. **After including time constraints, how did the route change? Did the cost increase?**\n",
        "   - **New Optimal Route:** `[0, 2, 3, 1, 4, 5, 0]`\n",
        "   - **New Minimum Distance:** `165`\n",
        "   - The route changed from visiting locations 4 and 5 to prioritizing delivery based on preferred time slots. The total distance increased from `115` to `165` due to penalties for not adhering to the preferred delivery times.\n",
        "\n",
        "3. **What happens when you increase the number of generations? What happens when you update the mutation rate, or change the size of the population? Briefly explain the observations.**\n",
        "   - **Increasing the Number of Generations:** This allows more exploration of the solution space, potentially leading to better optimization results. However, after a certain point, improvements may diminish as the algorithm converges.\n",
        "   - **Updating the Mutation Rate:** A higher mutation rate introduces more variability, helping to escape local optima, while a lower rate may lead to premature convergence. The right balance is crucial for effective optimization.\n",
        "   - **Changing the Size of the Population:** A larger population offers better diversity and exploration, potentially improving results but at the cost of increased computation. A smaller population can converge faster but risks getting stuck in local optima.\n",
        "\n",
        "These parameters are essential for balancing exploration and exploitation in a genetic algorithm, significantly impacting performance and optimization quality.\n"
      ],
      "metadata": {
        "id": "mDfLlec5ronR"
      }
    }
  ],
  "metadata": {
    "kernelspec": {
      "display_name": "Python 3",
      "language": "python",
      "name": "python3"
    },
    "language_info": {
      "codemirror_mode": {
        "name": "ipython",
        "version": 3
      },
      "file_extension": ".py",
      "mimetype": "text/x-python",
      "name": "python",
      "nbconvert_exporter": "python",
      "pygments_lexer": "ipython3",
      "version": "3.8.5"
    },
    "colab": {
      "provenance": []
    }
  },
  "nbformat": 4,
  "nbformat_minor": 0
}